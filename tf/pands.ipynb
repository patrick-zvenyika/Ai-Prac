{
 "cells": [
  {
   "cell_type": "code",
   "execution_count": 3,
   "id": "2e04467c",
   "metadata": {},
   "outputs": [],
   "source": [
    "from sklearn import datasets"
   ]
  },
  {
   "cell_type": "code",
   "execution_count": 4,
   "id": "4b11dc49",
   "metadata": {},
   "outputs": [],
   "source": [
    "iris_dataset = datasets.load_iris()"
   ]
  },
  {
   "cell_type": "code",
   "execution_count": 5,
   "id": "d14d10ae",
   "metadata": {},
   "outputs": [],
   "source": [
    "x = iris_dataset.data[:,:2]"
   ]
  },
  {
   "cell_type": "code",
   "execution_count": 7,
   "id": "97e80fcf",
   "metadata": {},
   "outputs": [],
   "source": [
    "x_count = len(x.flat)\n",
    "x_min = x[:, 0].min() - .5\n",
    "x_max = x[:, 0].max() + .5\n",
    "x_mean = x[:, 0].mean()"
   ]
  },
  {
   "cell_type": "code",
   "execution_count": 8,
   "id": "cb358cfd",
   "metadata": {},
   "outputs": [
    {
     "data": {
      "text/plain": [
       "(300, 3.8, 8.4, 5.843333333333334)"
      ]
     },
     "execution_count": 8,
     "metadata": {},
     "output_type": "execute_result"
    }
   ],
   "source": [
    "x_count, x_min, x_max, x_mean"
   ]
  },
  {
   "cell_type": "code",
   "execution_count": null,
   "id": "8290d0ae",
   "metadata": {},
   "outputs": [],
   "source": []
  }
 ],
 "metadata": {
  "kernelspec": {
   "display_name": "Python 3",
   "language": "python",
   "name": "python3"
  },
  "language_info": {
   "codemirror_mode": {
    "name": "ipython",
    "version": 3
   },
   "file_extension": ".py",
   "mimetype": "text/x-python",
   "name": "python",
   "nbconvert_exporter": "python",
   "pygments_lexer": "ipython3",
   "version": "3.8.8"
  }
 },
 "nbformat": 4,
 "nbformat_minor": 5
}
